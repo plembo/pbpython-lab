{
 "cells": [
  {
   "cell_type": "markdown",
   "id": "mechanical-current",
   "metadata": {},
   "source": [
    "# Pandas DataFrame Visualization Tools (overview)"
   ]
  },
  {
   "cell_type": "markdown",
   "id": "minor-fisher",
   "metadata": {},
   "source": [
    "Chris Moffitt. \"Pandas DataFrame Visualization Tools\". _Practical Business Python_, January 11, 2021, https://pbpython.com/dataframe-gui-overview.html. Retrieved January 15, 2021.\n"
   ]
  },
  {
   "cell_type": "markdown",
   "id": "exciting-collection",
   "metadata": {},
   "source": [
    "**Dependencies**: pandas and openpyxl (xlrd cannot handle xlsx files)"
   ]
  },
  {
   "cell_type": "code",
   "execution_count": 2,
   "id": "cross-buyer",
   "metadata": {},
   "outputs": [],
   "source": [
    "import numpy as np\n",
    "import pandas as pd"
   ]
  },
  {
   "cell_type": "code",
   "execution_count": 3,
   "id": "miniature-identification",
   "metadata": {},
   "outputs": [],
   "source": [
    "url = 'https://github.com/chris1610/pbpython/blob/master/data/2018_Sales_Total_v2.xlsx?raw=True'"
   ]
  },
  {
   "cell_type": "code",
   "execution_count": 4,
   "id": "corporate-potential",
   "metadata": {},
   "outputs": [],
   "source": [
    "df = pd.read_excel(url)"
   ]
  },
  {
   "cell_type": "code",
   "execution_count": 5,
   "id": "precise-relaxation",
   "metadata": {},
   "outputs": [
    {
     "data": {
      "text/html": [
       "<div>\n",
       "<style scoped>\n",
       "    .dataframe tbody tr th:only-of-type {\n",
       "        vertical-align: middle;\n",
       "    }\n",
       "\n",
       "    .dataframe tbody tr th {\n",
       "        vertical-align: top;\n",
       "    }\n",
       "\n",
       "    .dataframe thead th {\n",
       "        text-align: right;\n",
       "    }\n",
       "</style>\n",
       "<table border=\"1\" class=\"dataframe\">\n",
       "  <thead>\n",
       "    <tr style=\"text-align: right;\">\n",
       "      <th></th>\n",
       "      <th>account number</th>\n",
       "      <th>name</th>\n",
       "      <th>sku</th>\n",
       "      <th>quantity</th>\n",
       "      <th>unit price</th>\n",
       "      <th>ext price</th>\n",
       "      <th>date</th>\n",
       "    </tr>\n",
       "  </thead>\n",
       "  <tbody>\n",
       "    <tr>\n",
       "      <th>0</th>\n",
       "      <td>740150</td>\n",
       "      <td>Barton LLC</td>\n",
       "      <td>B1-20000</td>\n",
       "      <td>39</td>\n",
       "      <td>86.69</td>\n",
       "      <td>3380.91</td>\n",
       "      <td>2018-01-01 07:21:51.000002</td>\n",
       "    </tr>\n",
       "    <tr>\n",
       "      <th>1</th>\n",
       "      <td>714466</td>\n",
       "      <td>Trantow-Barrows</td>\n",
       "      <td>S2-77896</td>\n",
       "      <td>-1</td>\n",
       "      <td>63.16</td>\n",
       "      <td>-63.16</td>\n",
       "      <td>2018-01-01 10:00:47.000004</td>\n",
       "    </tr>\n",
       "    <tr>\n",
       "      <th>2</th>\n",
       "      <td>218895</td>\n",
       "      <td>Kulas Inc</td>\n",
       "      <td>B1-69924</td>\n",
       "      <td>23</td>\n",
       "      <td>90.70</td>\n",
       "      <td>2086.10</td>\n",
       "      <td>2018-01-01 13:24:57.999997</td>\n",
       "    </tr>\n",
       "    <tr>\n",
       "      <th>3</th>\n",
       "      <td>307599</td>\n",
       "      <td>Kassulke, Ondricka and Metz</td>\n",
       "      <td>S1-65481</td>\n",
       "      <td>41</td>\n",
       "      <td>21.05</td>\n",
       "      <td>863.05</td>\n",
       "      <td>2018-01-01 15:05:21.999995</td>\n",
       "    </tr>\n",
       "    <tr>\n",
       "      <th>4</th>\n",
       "      <td>412290</td>\n",
       "      <td>Jerde-Hilpert</td>\n",
       "      <td>S2-34077</td>\n",
       "      <td>6</td>\n",
       "      <td>83.21</td>\n",
       "      <td>499.26</td>\n",
       "      <td>2018-01-01 23:26:55.000003</td>\n",
       "    </tr>\n",
       "    <tr>\n",
       "      <th>...</th>\n",
       "      <td>...</td>\n",
       "      <td>...</td>\n",
       "      <td>...</td>\n",
       "      <td>...</td>\n",
       "      <td>...</td>\n",
       "      <td>...</td>\n",
       "      <td>...</td>\n",
       "    </tr>\n",
       "    <tr>\n",
       "      <th>1502</th>\n",
       "      <td>424914</td>\n",
       "      <td>White-Trantow</td>\n",
       "      <td>B1-69924</td>\n",
       "      <td>37</td>\n",
       "      <td>42.77</td>\n",
       "      <td>1582.49</td>\n",
       "      <td>2018-11-27 14:29:02.000003</td>\n",
       "    </tr>\n",
       "    <tr>\n",
       "      <th>1503</th>\n",
       "      <td>424914</td>\n",
       "      <td>White-Trantow</td>\n",
       "      <td>S1-47412</td>\n",
       "      <td>16</td>\n",
       "      <td>65.58</td>\n",
       "      <td>1049.28</td>\n",
       "      <td>2018-12-19 15:15:41.000000</td>\n",
       "    </tr>\n",
       "    <tr>\n",
       "      <th>1504</th>\n",
       "      <td>424914</td>\n",
       "      <td>White-Trantow</td>\n",
       "      <td>B1-86481</td>\n",
       "      <td>75</td>\n",
       "      <td>28.89</td>\n",
       "      <td>2166.75</td>\n",
       "      <td>2018-12-29 13:03:54.000000</td>\n",
       "    </tr>\n",
       "    <tr>\n",
       "      <th>1505</th>\n",
       "      <td>424914</td>\n",
       "      <td>White-Trantow</td>\n",
       "      <td>S1-82801</td>\n",
       "      <td>20</td>\n",
       "      <td>95.75</td>\n",
       "      <td>1915.00</td>\n",
       "      <td>2018-12-22 03:31:35.999996</td>\n",
       "    </tr>\n",
       "    <tr>\n",
       "      <th>1506</th>\n",
       "      <td>424914</td>\n",
       "      <td>White-Trantow</td>\n",
       "      <td>S2-83881</td>\n",
       "      <td>100</td>\n",
       "      <td>88.19</td>\n",
       "      <td>8819.00</td>\n",
       "      <td>2018-12-16 00:46:26.000003</td>\n",
       "    </tr>\n",
       "  </tbody>\n",
       "</table>\n",
       "<p>1507 rows × 7 columns</p>\n",
       "</div>"
      ],
      "text/plain": [
       "      account number                         name       sku  quantity  \\\n",
       "0             740150                   Barton LLC  B1-20000        39   \n",
       "1             714466              Trantow-Barrows  S2-77896        -1   \n",
       "2             218895                    Kulas Inc  B1-69924        23   \n",
       "3             307599  Kassulke, Ondricka and Metz  S1-65481        41   \n",
       "4             412290                Jerde-Hilpert  S2-34077         6   \n",
       "...              ...                          ...       ...       ...   \n",
       "1502          424914                White-Trantow  B1-69924        37   \n",
       "1503          424914                White-Trantow  S1-47412        16   \n",
       "1504          424914                White-Trantow  B1-86481        75   \n",
       "1505          424914                White-Trantow  S1-82801        20   \n",
       "1506          424914                White-Trantow  S2-83881       100   \n",
       "\n",
       "      unit price  ext price                       date  \n",
       "0          86.69    3380.91 2018-01-01 07:21:51.000002  \n",
       "1          63.16     -63.16 2018-01-01 10:00:47.000004  \n",
       "2          90.70    2086.10 2018-01-01 13:24:57.999997  \n",
       "3          21.05     863.05 2018-01-01 15:05:21.999995  \n",
       "4          83.21     499.26 2018-01-01 23:26:55.000003  \n",
       "...          ...        ...                        ...  \n",
       "1502       42.77    1582.49 2018-11-27 14:29:02.000003  \n",
       "1503       65.58    1049.28 2018-12-19 15:15:41.000000  \n",
       "1504       28.89    2166.75 2018-12-29 13:03:54.000000  \n",
       "1505       95.75    1915.00 2018-12-22 03:31:35.999996  \n",
       "1506       88.19    8819.00 2018-12-16 00:46:26.000003  \n",
       "\n",
       "[1507 rows x 7 columns]"
      ]
     },
     "execution_count": 5,
     "metadata": {},
     "output_type": "execute_result"
    }
   ],
   "source": [
    "df"
   ]
  },
  {
   "cell_type": "markdown",
   "id": "asian-abuse",
   "metadata": {},
   "source": [
    "## Qantopian's qgrid\n",
    "Homepage: https://github.com/quantopian/qgrid\n",
    "\n",
    "To install:\n",
    "```\n",
    "$ pip install qgrid\n",
    "$ jupyter nbextension enable --py --sys-prefix qgrid\n",
    "```\n",
    "Following only required if you have not enabled the ipywidgets nbextension yet:\n",
    "\n",
    "```\n",
    "$ jupyter nbextension enable --py --sys-prefix widgetsnbextension\n",
    "```\n",
    "Close jupyter and start new session.\n"
   ]
  },
  {
   "cell_type": "code",
   "execution_count": 6,
   "id": "increasing-burton",
   "metadata": {},
   "outputs": [
    {
     "data": {
      "application/vnd.jupyter.widget-view+json": {
       "model_id": "3fe24644cd524b31af4a519f52bea89c",
       "version_major": 2,
       "version_minor": 0
      },
      "text/plain": [
       "QgridWidget(grid_options={'fullWidthRows': True, 'syncColumnCellResize': True, 'forceFitColumns': True, 'defau…"
      ]
     },
     "metadata": {},
     "output_type": "display_data"
    }
   ],
   "source": [
    "import qgrid\n",
    "widget = qgrid.show_grid(df, show_toolbar=True)\n",
    "widget"
   ]
  },
  {
   "cell_type": "markdown",
   "id": "recreational-breakfast",
   "metadata": {},
   "source": [
    "## PivottableJs\n",
    "Homepage: https://github.com/nicolaskruchten/jupyter_pivottablejs\n",
    "\n",
    "```\n",
    "$ pip install pivottablejs\n",
    "```\n",
    "Select \"Table\", \"Sum\", \"quantity\" and then drag \"name\" field from header into box."
   ]
  },
  {
   "cell_type": "code",
   "execution_count": 7,
   "id": "based-poison",
   "metadata": {},
   "outputs": [
    {
     "data": {
      "text/html": [
       "\n",
       "        <iframe\n",
       "            width=\"100%\"\n",
       "            height=\"500\"\n",
       "            src=\"pivottablejs.html\"\n",
       "            frameborder=\"0\"\n",
       "            allowfullscreen\n",
       "        ></iframe>\n",
       "        "
      ],
      "text/plain": [
       "<IPython.lib.display.IFrame at 0x7fa7160820a0>"
      ]
     },
     "execution_count": 7,
     "metadata": {},
     "output_type": "execute_result"
    }
   ],
   "source": [
    "from pivottablejs import pivot_ui\n",
    "pivot_ui(df)"
   ]
  },
  {
   "cell_type": "markdown",
   "id": "mighty-committee",
   "metadata": {},
   "source": [
    "## PandasGUI\n",
    "Homepage: https://github.com/adamerose/pandasgui\n",
    "\n",
    "```\n",
    "$ pip install pandasgui\n",
    "```"
   ]
  },
  {
   "cell_type": "code",
   "execution_count": 8,
   "id": "authentic-temple",
   "metadata": {},
   "outputs": [
    {
     "data": {
      "text/plain": [
       "<pandasgui.gui.PandasGui at 0x7fa778234820>"
      ]
     },
     "execution_count": 8,
     "metadata": {},
     "output_type": "execute_result"
    }
   ],
   "source": [
    "from pandasgui import show\n",
    "show(df)"
   ]
  },
  {
   "cell_type": "code",
   "execution_count": null,
   "id": "worth-testimony",
   "metadata": {},
   "outputs": [],
   "source": []
  }
 ],
 "metadata": {
  "kernelspec": {
   "display_name": "Python 3",
   "language": "python",
   "name": "python3"
  },
  "language_info": {
   "codemirror_mode": {
    "name": "ipython",
    "version": 3
   },
   "file_extension": ".py",
   "mimetype": "text/x-python",
   "name": "python",
   "nbconvert_exporter": "python",
   "pygments_lexer": "ipython3",
   "version": "3.8.7"
  }
 },
 "nbformat": 4,
 "nbformat_minor": 5
}
